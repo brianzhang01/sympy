{
 "cells": [
  {
   "cell_type": "code",
   "execution_count": 1,
   "metadata": {},
   "outputs": [
    {
     "name": "stdout",
     "output_type": "stream",
     "text": [
      "1.1.1\n"
     ]
    }
   ],
   "source": [
    "import sympy as sym\n",
    "from IPython.display import display\n",
    "sym.init_printing()\n",
    "print sym.__version__"
   ]
  },
  {
   "cell_type": "markdown",
   "metadata": {},
   "source": [
    "## Marchenko-Pastur"
   ]
  },
  {
   "cell_type": "code",
   "execution_count": 2,
   "metadata": {
    "collapsed": true
   },
   "outputs": [],
   "source": [
    "x, f = sym.symbols('x f', positive=True)  # f is our fraction, p / n in the genetic case"
   ]
  },
  {
   "cell_type": "code",
   "execution_count": 3,
   "metadata": {
    "collapsed": true
   },
   "outputs": [],
   "source": [
    "f1 = (1 - sym.sqrt(f))**2\n",
    "f2 = (1 + sym.sqrt(f))**2"
   ]
  },
  {
   "cell_type": "code",
   "execution_count": 4,
   "metadata": {},
   "outputs": [
    {
     "data": {
      "image/png": "[encoded data removed]",
      "text/latex": [
       "$$\\left(- \\sqrt{f} + 1\\right)^{2}$$"
      ],
      "text/plain": [
       "         2\n",
       "(-√f + 1) "
      ]
     },
     "execution_count": 4,
     "metadata": {},
     "output_type": "execute_result"
    }
   ],
   "source": [
    "f1"
   ]
  },
  {
   "cell_type": "code",
   "execution_count": 5,
   "metadata": {},
   "outputs": [
    {
     "data": {
      "image/png": "[encoded data removed]",
      "text/latex": [
       "$$\\left(\\sqrt{f} + 1\\right)^{2}$$"
      ],
      "text/plain": [
       "        2\n",
       "(√f + 1) "
      ]
     },
     "execution_count": 5,
     "metadata": {},
     "output_type": "execute_result"
    }
   ],
   "source": [
    "f2"
   ]
  },
  {
   "cell_type": "code",
   "execution_count": 6,
   "metadata": {
    "collapsed": true
   },
   "outputs": [],
   "source": [
    "mp = sym.Piecewise(\n",
    "    (0, x < f1),\n",
    "    (0, x > f2),\n",
    "    (sym.sqrt((f2-x)*(x-f1))/(f*x*2*sym.pi), True)\n",
    ")"
   ]
  },
  {
   "cell_type": "code",
   "execution_count": 7,
   "metadata": {},
   "outputs": [
    {
     "data": {
      "image/png": "[encoded data removed]",
      "text/latex": [
       "$$\\begin{cases} 0 & \\text{for}\\: x > \\left(\\sqrt{f} + 1\\right)^{2} \\vee x < \\left(- \\sqrt{f} + 1\\right)^{2} \\\\\\frac{1}{2 \\pi f x} \\sqrt{\\left(- x + \\left(\\sqrt{f} + 1\\right)^{2}\\right) \\left(x - \\left(- \\sqrt{f} + 1\\right)^{2}\\right)} & \\text{otherwise} \\end{cases}$$"
      ],
      "text/plain": [
       "⎧                                                        2                2\n",
       "⎪                  0                     for x > (√f + 1)  ∨ x < (-√f + 1) \n",
       "⎪                                                                          \n",
       "⎪   ___________________________________                                    \n",
       "⎨  ╱ ⎛             2⎞ ⎛             2⎞                                     \n",
       "⎪╲╱  ⎝-x + (√f + 1) ⎠⋅⎝x - (-√f + 1) ⎠                                     \n",
       "⎪──────────────────────────────────────              otherwise             \n",
       "⎪               2⋅π⋅f⋅x                                                    \n",
       "⎩                                                                          "
      ]
     },
     "execution_count": 7,
     "metadata": {},
     "output_type": "execute_result"
    }
   ],
   "source": [
    "mp"
   ]
  },
  {
   "cell_type": "code",
   "execution_count": 8,
   "metadata": {},
   "outputs": [
    {
     "data": {
      "image/png": "[encoded data removed]",
      "text/latex": [
       "$$\\begin{cases} 0 & \\text{for}\\: x > \\left(\\sqrt{f} + 1\\right)^{2} \\vee x < \\left(\\sqrt{f} - 1\\right)^{2} \\\\\\frac{1}{2 \\pi f x} \\sqrt{- f^{2} + 2 f x + 2 f - x^{2} + 2 x - 1} & \\text{otherwise} \\end{cases}$$"
      ],
      "text/plain": [
       "⎧                                                        2               2\n",
       "⎪                  0                     for x > (√f + 1)  ∨ x < (√f - 1) \n",
       "⎪                                                                         \n",
       "⎪   ___________________________________                                   \n",
       "⎨  ╱    2                  2                                              \n",
       "⎪╲╱  - f  + 2⋅f⋅x + 2⋅f - x  + 2⋅x - 1                                    \n",
       "⎪──────────────────────────────────────              otherwise            \n",
       "⎪               2⋅π⋅f⋅x                                                   \n",
       "⎩                                                                         "
      ]
     },
     "execution_count": 8,
     "metadata": {},
     "output_type": "execute_result"
    }
   ],
   "source": [
    "sym.simplify(mp)"
   ]
  },
  {
   "cell_type": "code",
   "execution_count": 9,
   "metadata": {
    "collapsed": true
   },
   "outputs": [],
   "source": [
    "# sym.integrate(mp, (x, f1, f2))  # had to abort"
   ]
  },
  {
   "cell_type": "markdown",
   "metadata": {},
   "source": [
    "### Using results from Wolfram Alpha"
   ]
  },
  {
   "cell_type": "code",
   "execution_count": 10,
   "metadata": {
    "collapsed": true
   },
   "outputs": [],
   "source": [
    "def mproot(x):\n",
    "    return sym.sqrt(-f**2+2*f*(x+1)-(x-1)**2)\n",
    "\n",
    "def integral1(x):\n",
    "    thing1 = sym.I*(f-1)*sym.log(2*(-(f-1)*mproot(x) - sym.I*(-f**2+f*(x+2)+x+1))/x/(f-1)**3)\n",
    "    thing2 = -(f+1)*sym.atan((f-x+1)/mproot(x))\n",
    "    return (mproot(x) + thing1 + thing2) / (2*sym.pi*f)"
   ]
  },
  {
   "cell_type": "code",
   "execution_count": 11,
   "metadata": {},
   "outputs": [
    {
     "data": {
      "image/png": "[encoded data removed]",
      "text/latex": [
       "$$\\frac{1}{2 \\pi f} \\left(\\left(- f - 1\\right) \\operatorname{atan}{\\left (\\frac{f - x + 1}{\\sqrt{- f^{2} + 2 f \\left(x + 1\\right) - \\left(x - 1\\right)^{2}}} \\right )} + i \\left(f - 1\\right) \\log{\\left (\\frac{1}{x \\left(f - 1\\right)^{3}} \\left(2 \\left(- f + 1\\right) \\sqrt{- f^{2} + 2 f \\left(x + 1\\right) - \\left(x - 1\\right)^{2}} - 2 i \\left(- f^{2} + f \\left(x + 2\\right) + x + 1\\right)\\right) \\right )} + \\sqrt{- f^{2} + 2 f \\left(x + 1\\right) - \\left(x - 1\\right)^{2}}\\right)$$"
      ],
      "text/plain": [
       "                                                                 ⎛            \n",
       "                                                                 ⎜            \n",
       "             ⎛            f - x + 1             ⎞                ⎜2⋅(-f + 1)⋅╲\n",
       "(-f - 1)⋅atan⎜──────────────────────────────────⎟ + ⅈ⋅(f - 1)⋅log⎜────────────\n",
       "             ⎜   _______________________________⎟                ⎜            \n",
       "             ⎜  ╱    2                        2 ⎟                ⎝            \n",
       "             ⎝╲╱  - f  + 2⋅f⋅(x + 1) - (x - 1)  ⎠                             \n",
       "──────────────────────────────────────────────────────────────────────────────\n",
       "                                                                              \n",
       "\n",
       "  _______________________________                                 ⎞           \n",
       " ╱    2                        2        ⎛   2                    ⎞⎟      _____\n",
       "╱  - f  + 2⋅f⋅(x + 1) - (x - 1)   - 2⋅ⅈ⋅⎝- f  + f⋅(x + 2) + x + 1⎠⎟     ╱    2\n",
       "──────────────────────────────────────────────────────────────────⎟ + ╲╱  - f \n",
       "                               3                                  ⎟           \n",
       "                      x⋅(f - 1)                                   ⎠           \n",
       "                                                                              \n",
       "──────────────────────────────────────────────────────────────────────────────\n",
       "          2⋅π⋅f                                                               \n",
       "\n",
       "                          \n",
       "__________________________\n",
       "                        2 \n",
       " + 2⋅f⋅(x + 1) - (x - 1)  \n",
       "                          \n",
       "                          \n",
       "                          \n",
       "──────────────────────────\n",
       "                          "
      ]
     },
     "execution_count": 11,
     "metadata": {},
     "output_type": "execute_result"
    }
   ],
   "source": [
    "integral1(x)"
   ]
  },
  {
   "cell_type": "code",
   "execution_count": 12,
   "metadata": {},
   "outputs": [
    {
     "data": {
      "image/png": "[encoded data removed]",
      "text/latex": [
       "$$- \\frac{1}{2 \\pi f} \\left(\\left(- f - 1\\right) \\operatorname{atan}{\\left (\\frac{f - \\left(- \\sqrt{f} + 1\\right)^{2} + 1}{\\sqrt{- f^{2} + 2 f \\left(\\left(- \\sqrt{f} + 1\\right)^{2} + 1\\right) - \\left(\\left(- \\sqrt{f} + 1\\right)^{2} - 1\\right)^{2}}} \\right )} + i \\left(f - 1\\right) \\log{\\left (\\frac{1}{\\left(- \\sqrt{f} + 1\\right)^{2} \\left(f - 1\\right)^{3}} \\left(2 \\left(- f + 1\\right) \\sqrt{- f^{2} + 2 f \\left(\\left(- \\sqrt{f} + 1\\right)^{2} + 1\\right) - \\left(\\left(- \\sqrt{f} + 1\\right)^{2} - 1\\right)^{2}} - 2 i \\left(- f^{2} + f \\left(\\left(- \\sqrt{f} + 1\\right)^{2} + 2\\right) + \\left(- \\sqrt{f} + 1\\right)^{2} + 1\\right)\\right) \\right )} + \\sqrt{- f^{2} + 2 f \\left(\\left(- \\sqrt{f} + 1\\right)^{2} + 1\\right) - \\left(\\left(- \\sqrt{f} + 1\\right)^{2} - 1\\right)^{2}}\\right) + \\frac{1}{2 \\pi f} \\left(\\left(- f - 1\\right) \\operatorname{atan}{\\left (\\frac{f - \\left(\\sqrt{f} + 1\\right)^{2} + 1}{\\sqrt{- f^{2} + 2 f \\left(\\left(\\sqrt{f} + 1\\right)^{2} + 1\\right) - \\left(\\left(\\sqrt{f} + 1\\right)^{2} - 1\\right)^{2}}} \\right )} + i \\left(f - 1\\right) \\log{\\left (\\frac{1}{\\left(\\sqrt{f} + 1\\right)^{2} \\left(f - 1\\right)^{3}} \\left(2 \\left(- f + 1\\right) \\sqrt{- f^{2} + 2 f \\left(\\left(\\sqrt{f} + 1\\right)^{2} + 1\\right) - \\left(\\left(\\sqrt{f} + 1\\right)^{2} - 1\\right)^{2}} - 2 i \\left(- f^{2} + f \\left(\\left(\\sqrt{f} + 1\\right)^{2} + 2\\right) + \\left(\\sqrt{f} + 1\\right)^{2} + 1\\right)\\right) \\right )} + \\sqrt{- f^{2} + 2 f \\left(\\left(\\sqrt{f} + 1\\right)^{2} + 1\\right) - \\left(\\left(\\sqrt{f} + 1\\right)^{2} - 1\\right)^{2}}\\right)$$"
      ],
      "text/plain": [
       "                                                                              \n",
       "                                                                              \n",
       "               ⎛                               2                     ⎞        \n",
       "               ⎜                  f - (-√f + 1)  + 1                 ⎟        \n",
       "  (-f - 1)⋅atan⎜─────────────────────────────────────────────────────⎟ + ⅈ⋅(f \n",
       "               ⎜    _________________________________________________⎟        \n",
       "               ⎜   ╱                                               2 ⎟        \n",
       "               ⎜  ╱     2       ⎛         2    ⎞   ⎛         2    ⎞  ⎟        \n",
       "               ⎝╲╱   - f  + 2⋅f⋅⎝(-√f + 1)  + 1⎠ - ⎝(-√f + 1)  - 1⎠  ⎠        \n",
       "- ────────────────────────────────────────────────────────────────────────────\n",
       "                                                                              \n",
       "\n",
       "        ⎛               _________________________________________________     \n",
       "        ⎜              ╱                                               2      \n",
       "        ⎜             ╱     2       ⎛         2    ⎞   ⎛         2    ⎞       \n",
       "        ⎜2⋅(-f + 1)⋅╲╱   - f  + 2⋅f⋅⎝(-√f + 1)  + 1⎠ - ⎝(-√f + 1)  - 1⎠   - 2⋅\n",
       "- 1)⋅log⎜─────────────────────────────────────────────────────────────────────\n",
       "        ⎜                                                         2        3  \n",
       "        ⎝                                                (-√f + 1) ⋅(f - 1)   \n",
       "                                                                              \n",
       "                                                                              \n",
       "──────────────────────────────────────────────────────────────────────────────\n",
       "                                                  2⋅π⋅f                       \n",
       "\n",
       "                                              ⎞                               \n",
       "                                              ⎟       ________________________\n",
       "  ⎛   2     ⎛         2    ⎞            2    ⎞⎟      ╱                        \n",
       "ⅈ⋅⎝- f  + f⋅⎝(-√f + 1)  + 2⎠ + (-√f + 1)  + 1⎠⎟     ╱     2       ⎛         2 \n",
       "──────────────────────────────────────────────⎟ + ╲╱   - f  + 2⋅f⋅⎝(-√f + 1)  \n",
       "                                              ⎟                               \n",
       "                                              ⎠                               \n",
       "                                                                              \n",
       "                                                                              \n",
       "──────────────────────────────────────────────────────────────────────────────\n",
       "                                                                              \n",
       "\n",
       "                                                                              \n",
       "_________________________                                                     \n",
       "                       2                 ⎛                             2      \n",
       "   ⎞   ⎛         2    ⎞                  ⎜                 f - (√f + 1)  + 1  \n",
       "+ 1⎠ - ⎝(-√f + 1)  - 1⎠     (-f - 1)⋅atan⎜────────────────────────────────────\n",
       "                                         ⎜    ________________________________\n",
       "                                         ⎜   ╱                                \n",
       "                                         ⎜  ╱     2       ⎛        2    ⎞   ⎛ \n",
       "                                         ⎝╲╱   - f  + 2⋅f⋅⎝(√f + 1)  + 1⎠ - ⎝(\n",
       "───────────────────────── + ──────────────────────────────────────────────────\n",
       "                                                                              \n",
       "\n",
       "                                ⎛               ______________________________\n",
       "                                ⎜              ╱                              \n",
       "               ⎞                ⎜             ╱     2       ⎛        2    ⎞   \n",
       "               ⎟                ⎜2⋅(-f + 1)⋅╲╱   - f  + 2⋅f⋅⎝(√f + 1)  + 1⎠ - \n",
       "───────────────⎟ + ⅈ⋅(f - 1)⋅log⎜─────────────────────────────────────────────\n",
       "_______________⎟                ⎜                                             \n",
       "             2 ⎟                ⎝                                             \n",
       "       2    ⎞  ⎟                                                              \n",
       "√f + 1)  - 1⎠  ⎠                                                              \n",
       "──────────────────────────────────────────────────────────────────────────────\n",
       "                                                                        2⋅π⋅f \n",
       "\n",
       "_________________                                                 ⎞           \n",
       "               2                                                  ⎟       ____\n",
       "⎛        2    ⎞         ⎛   2     ⎛        2    ⎞           2    ⎞⎟      ╱    \n",
       "⎝(√f + 1)  - 1⎠   - 2⋅ⅈ⋅⎝- f  + f⋅⎝(√f + 1)  + 2⎠ + (√f + 1)  + 1⎠⎟     ╱     \n",
       "──────────────────────────────────────────────────────────────────⎟ + ╲╱   - f\n",
       "          2        3                                              ⎟           \n",
       "  (√f + 1) ⋅(f - 1)                                               ⎠           \n",
       "                                                                              \n",
       "                                                                              \n",
       "──────────────────────────────────────────────────────────────────────────────\n",
       "                                                                              \n",
       "\n",
       "                                           \n",
       "___________________________________________\n",
       "                                         2 \n",
       "2       ⎛        2    ⎞   ⎛        2    ⎞  \n",
       "  + 2⋅f⋅⎝(√f + 1)  + 1⎠ - ⎝(√f + 1)  - 1⎠  \n",
       "                                           \n",
       "                                           \n",
       "                                           \n",
       "                                           \n",
       "───────────────────────────────────────────\n",
       "                                           "
      ]
     },
     "execution_count": 12,
     "metadata": {},
     "output_type": "execute_result"
    }
   ],
   "source": [
    "integral1(f2) - integral1(f1)"
   ]
  },
  {
   "cell_type": "code",
   "execution_count": 13,
   "metadata": {},
   "outputs": [
    {
     "data": {
      "image/png": "[encoded data removed]",
      "text/latex": [
       "$$\\frac{1}{2 \\pi f} \\left(i f \\log{\\left (- \\frac{i}{f^{3} - 3 f^{2} + 3 f - 1} \\right )} - i f \\log{\\left (\\frac{i \\left(f^{\\frac{3}{2}} + \\sqrt{f} - 2 f - 1\\right)}{- 2 f^{\\frac{7}{2}} + 6 f^{\\frac{5}{2}} - 6 f^{\\frac{3}{2}} + 2 \\sqrt{f} + f^{4} - 2 f^{3} + 2 f - 1} \\right )} + 2 f \\operatorname{atan}{\\left (\\tilde{\\infty} \\right )} - i \\log{\\left (- \\frac{i}{f^{3} - 3 f^{2} + 3 f - 1} \\right )} + i \\log{\\left (\\left(\\sqrt{f} + 1\\right)^{- 2 f + 2} \\left(f^{\\frac{3}{2}} + \\sqrt{f} + 2 f + 1\\right)^{f - 1} \\right )} + i \\log{\\left (\\frac{i \\left(f^{\\frac{3}{2}} + \\sqrt{f} - 2 f - 1\\right)}{- 2 f^{\\frac{7}{2}} + 6 f^{\\frac{5}{2}} - 6 f^{\\frac{3}{2}} + 2 \\sqrt{f} + f^{4} - 2 f^{3} + 2 f - 1} \\right )} + 2 \\operatorname{atan}{\\left (\\tilde{\\infty} \\right )}\\right)$$"
      ],
      "text/plain": [
       "                                      ⎛                  ⎛ 3/2               ⎞\n",
       "       ⎛        -ⅈ         ⎞          ⎜                ⅈ⋅⎝f    + √f - 2⋅f - 1⎠\n",
       "ⅈ⋅f⋅log⎜───────────────────⎟ - ⅈ⋅f⋅log⎜───────────────────────────────────────\n",
       "       ⎜ 3      2          ⎟          ⎜     7/2      5/2      3/2           4 \n",
       "       ⎝f  - 3⋅f  + 3⋅f - 1⎠          ⎝- 2⋅f    + 6⋅f    - 6⋅f    + 2⋅√f + f  \n",
       "──────────────────────────────────────────────────────────────────────────────\n",
       "                                                                              \n",
       "\n",
       "                ⎞                                                     ⎛       \n",
       "                ⎟                        ⎛        -ⅈ         ⎞        ⎜       \n",
       "────────────────⎟ + 2⋅f⋅atan(zoo) - ⅈ⋅log⎜───────────────────⎟ + ⅈ⋅log⎝(√f + 1\n",
       "     3          ⎟                        ⎜ 3      2          ⎟                \n",
       "- 2⋅f  + 2⋅f - 1⎠                        ⎝f  - 3⋅f  + 3⋅f - 1⎠                \n",
       "──────────────────────────────────────────────────────────────────────────────\n",
       "                                                       2⋅π⋅f                  \n",
       "\n",
       "                               f - 1⎞        ⎛                  ⎛ 3/2         \n",
       " -2⋅f + 2 ⎛ 3/2               ⎞     ⎟        ⎜                ⅈ⋅⎝f    + √f - 2\n",
       ")        ⋅⎝f    + √f + 2⋅f + 1⎠     ⎠ + ⅈ⋅log⎜────────────────────────────────\n",
       "                                             ⎜     7/2      5/2      3/2      \n",
       "                                             ⎝- 2⋅f    + 6⋅f    - 6⋅f    + 2⋅√\n",
       "──────────────────────────────────────────────────────────────────────────────\n",
       "                                                                              \n",
       "\n",
       "      ⎞                ⎞              \n",
       "⋅f - 1⎠                ⎟              \n",
       "───────────────────────⎟ + 2⋅atan(zoo)\n",
       "     4      3          ⎟              \n",
       "f + f  - 2⋅f  + 2⋅f - 1⎠              \n",
       "──────────────────────────────────────\n",
       "                                      "
      ]
     },
     "execution_count": 13,
     "metadata": {},
     "output_type": "execute_result"
    }
   ],
   "source": [
    "sym.simplify(integral1(f2) - integral1(f1))"
   ]
  },
  {
   "cell_type": "code",
   "execution_count": 14,
   "metadata": {
    "collapsed": true
   },
   "outputs": [],
   "source": [
    "a, b = sym.symbols('a, b', positive=True)"
   ]
  },
  {
   "cell_type": "code",
   "execution_count": 15,
   "metadata": {
    "collapsed": true
   },
   "outputs": [],
   "source": [
    "def integral2(x):\n",
    "    return sym.sqrt((x-a)*(b-x)) + (a+b)/2*sym.asin((2*x-a-b)/(b-a)) - sym.sqrt(a*b)*sym.asin(((a+b)*x-2*a*b)/(x*(b-a)))"
   ]
  },
  {
   "cell_type": "code",
   "execution_count": 16,
   "metadata": {},
   "outputs": [
    {
     "data": {
      "image/png": "[encoded data removed]",
      "text/latex": [
       "$$- \\sqrt{a} \\sqrt{b} \\operatorname{asin}{\\left (\\frac{- 2 a b + x \\left(a + b\\right)}{x \\left(- a + b\\right)} \\right )} + \\sqrt{\\left(- a + x\\right) \\left(b - x\\right)} + \\left(\\frac{a}{2} + \\frac{b}{2}\\right) \\operatorname{asin}{\\left (\\frac{- a - b + 2 x}{- a + b} \\right )}$$"
      ],
      "text/plain": [
       "            ⎛-2⋅a⋅b + x⋅(a + b)⎞     __________________   ⎛a   b⎞     ⎛-a - b \n",
       "- √a⋅√b⋅asin⎜──────────────────⎟ + ╲╱ (-a + x)⋅(b - x)  + ⎜─ + ─⎟⋅asin⎜───────\n",
       "            ⎝    x⋅(-a + b)    ⎠                          ⎝2   2⎠     ⎝   -a +\n",
       "\n",
       "+ 2⋅x⎞\n",
       "─────⎟\n",
       " b   ⎠"
      ]
     },
     "execution_count": 16,
     "metadata": {},
     "output_type": "execute_result"
    }
   ],
   "source": [
    "integral2(x)"
   ]
  },
  {
   "cell_type": "code",
   "execution_count": 17,
   "metadata": {},
   "outputs": [
    {
     "data": {
      "image/png": "[encoded data removed]",
      "text/latex": [
       "$$\\sqrt{a} \\sqrt{b} \\operatorname{asin}{\\left (\\frac{- 2 a b + a \\left(a + b\\right)}{a \\left(- a + b\\right)} \\right )} - \\sqrt{a} \\sqrt{b} \\operatorname{asin}{\\left (\\frac{- 2 a b + b \\left(a + b\\right)}{b \\left(- a + b\\right)} \\right )} - \\left(\\frac{a}{2} + \\frac{b}{2}\\right) \\operatorname{asin}{\\left (\\frac{a - b}{- a + b} \\right )} + \\frac{\\pi}{2} \\left(\\frac{a}{2} + \\frac{b}{2}\\right)$$"
      ],
      "text/plain": [
       "                                                                              \n",
       "                                                                              \n",
       "          ⎛-2⋅a⋅b + a⋅(a + b)⎞             ⎛-2⋅a⋅b + b⋅(a + b)⎞   ⎛a   b⎞     \n",
       "√a⋅√b⋅asin⎜──────────────────⎟ - √a⋅√b⋅asin⎜──────────────────⎟ - ⎜─ + ─⎟⋅asin\n",
       "          ⎝    a⋅(-a + b)    ⎠             ⎝    b⋅(-a + b)    ⎠   ⎝2   2⎠     \n",
       "\n",
       "             ⎛a   b⎞\n",
       "           π⋅⎜─ + ─⎟\n",
       "⎛a - b ⎞     ⎝2   2⎠\n",
       "⎜──────⎟ + ─────────\n",
       "⎝-a + b⎠       2    "
      ]
     },
     "execution_count": 17,
     "metadata": {},
     "output_type": "execute_result"
    }
   ],
   "source": [
    "integral2(b) - integral2(a)"
   ]
  },
  {
   "cell_type": "code",
   "execution_count": 18,
   "metadata": {},
   "outputs": [
    {
     "data": {
      "image/png": "[encoded data removed]",
      "text/latex": [
       "$$\\frac{\\pi}{2} \\left(- 2 \\sqrt{a} \\sqrt{b} + a + b\\right)$$"
      ],
      "text/plain": [
       "π⋅(-2⋅√a⋅√b + a + b)\n",
       "────────────────────\n",
       "         2          "
      ]
     },
     "execution_count": 18,
     "metadata": {},
     "output_type": "execute_result"
    }
   ],
   "source": [
    "sym.simplify(integral2(b) - integral2(a))"
   ]
  },
  {
   "cell_type": "code",
   "execution_count": 19,
   "metadata": {
    "collapsed": true
   },
   "outputs": [],
   "source": [
    "good_result = sym.simplify(integral2(b) - integral2(a))"
   ]
  },
  {
   "cell_type": "code",
   "execution_count": 20,
   "metadata": {},
   "outputs": [
    {
     "data": {
      "image/png": "[encoded data removed]",
      "text/latex": [
       "$$\\pi \\left(- \\sqrt{f} \\left|{\\sqrt{f} - 1}\\right| + f - \\left|{\\sqrt{f} - 1}\\right| + 1\\right)$$"
      ],
      "text/plain": [
       "π⋅(-√f⋅│√f - 1│ + f - │√f - 1│ + 1)"
      ]
     },
     "execution_count": 20,
     "metadata": {},
     "output_type": "execute_result"
    }
   ],
   "source": [
    "sym.simplify(good_result.subs(b, f2).subs(a, f1))"
   ]
  },
  {
   "cell_type": "code",
   "execution_count": 21,
   "metadata": {},
   "outputs": [
    {
     "data": {
      "image/png": "[encoded data removed]",
      "text/latex": [
       "$$f^{2} - 2 f + 1$$"
      ],
      "text/plain": [
       " 2          \n",
       "f  - 2⋅f + 1"
      ]
     },
     "execution_count": 21,
     "metadata": {},
     "output_type": "execute_result"
    }
   ],
   "source": [
    "sym.simplify(f1*f2)"
   ]
  },
  {
   "cell_type": "code",
   "execution_count": 22,
   "metadata": {},
   "outputs": [
    {
     "data": {
      "image/png": "[encoded data removed]",
      "text/latex": [
       "$$2 f + 2$$"
      ],
      "text/plain": [
       "2⋅f + 2"
      ]
     },
     "execution_count": 22,
     "metadata": {},
     "output_type": "execute_result"
    }
   ],
   "source": [
    "sym.simplify(f1+f2)"
   ]
  },
  {
   "cell_type": "code",
   "execution_count": 23,
   "metadata": {},
   "outputs": [
    {
     "data": {
      "image/png": "[encoded data removed]",
      "text/latex": [
       "$$\\pi \\left(f - \\left|{f - 1}\\right| + 1\\right)$$"
      ],
      "text/plain": [
       "π⋅(f - │f - 1│ + 1)"
      ]
     },
     "execution_count": 23,
     "metadata": {},
     "output_type": "execute_result"
    }
   ],
   "source": [
    "sym.simplify(sym.pi/2*(f1+f2-2*sym.Abs(f-1)))"
   ]
  },
  {
   "cell_type": "code",
   "execution_count": 24,
   "metadata": {},
   "outputs": [
    {
     "data": {
      "image/png": "[encoded data removed]",
      "text/latex": [
       "$$\\begin{cases} 2 \\pi f & \\text{for}\\: f < 1 \\\\2 \\pi & \\text{otherwise} \\end{cases}$$"
      ],
      "text/plain": [
       "⎧2⋅π⋅f  for f < 1\n",
       "⎨                \n",
       "⎩ 2⋅π   otherwise"
      ]
     },
     "execution_count": 24,
     "metadata": {},
     "output_type": "execute_result"
    }
   ],
   "source": [
    "sym.simplify(sym.pi/2*(f1+f2-2*sym.Piecewise((1-f, f<1), (f-1, True))))"
   ]
  },
  {
   "cell_type": "markdown",
   "metadata": {},
   "source": [
    "#### Good, math works!"
   ]
  },
  {
   "cell_type": "markdown",
   "metadata": {},
   "source": [
    "#### Next: with a different factor?"
   ]
  },
  {
   "cell_type": "code",
   "execution_count": 25,
   "metadata": {
    "collapsed": true
   },
   "outputs": [],
   "source": [
    "l = sym.symbols('l', positive=True)"
   ]
  },
  {
   "cell_type": "code",
   "execution_count": 26,
   "metadata": {},
   "outputs": [
    {
     "data": {
      "image/png": "[encoded data removed]",
      "text/latex": [
       "$$\\left(l + \\left(\\sqrt{f} - 1\\right)^{2}\\right) \\left(l + \\left(\\sqrt{f} + 1\\right)^{2}\\right)$$"
      ],
      "text/plain": [
       "⎛            2⎞ ⎛            2⎞\n",
       "⎝l + (√f - 1) ⎠⋅⎝l + (√f + 1) ⎠"
      ]
     },
     "execution_count": 26,
     "metadata": {},
     "output_type": "execute_result"
    }
   ],
   "source": [
    "sym.simplify((f1+l)*(f2+l))"
   ]
  },
  {
   "cell_type": "code",
   "execution_count": 27,
   "metadata": {},
   "outputs": [
    {
     "data": {
      "image/png": "[encoded data removed]",
      "text/latex": [
       "$$f^{2} + 2 f l - 2 f + l^{2} + 2 l + 1$$"
      ],
      "text/plain": [
       " 2                  2          \n",
       "f  + 2⋅f⋅l - 2⋅f + l  + 2⋅l + 1"
      ]
     },
     "execution_count": 27,
     "metadata": {},
     "output_type": "execute_result"
    }
   ],
   "source": [
    "sym.simplify(sym.expand((f1+l)*(f2+l)))"
   ]
  },
  {
   "cell_type": "code",
   "execution_count": 28,
   "metadata": {
    "collapsed": true
   },
   "outputs": [],
   "source": [
    "good_result_2 = sym.simplify(\n",
    "    sym.pi/2*((f1+l)+(f2+l)-2*sym.sqrt(sym.simplify(\n",
    "        sym.expand((f1+l)*(f2+l))\n",
    "    ))) / (2*sym.pi*f)\n",
    ")"
   ]
  },
  {
   "cell_type": "code",
   "execution_count": 29,
   "metadata": {},
   "outputs": [
    {
     "data": {
      "image/png": "[encoded data removed]",
      "text/latex": [
       "$$\\frac{1}{2 f} \\left(f + l - \\sqrt{f^{2} + 2 f l - 2 f + l^{2} + 2 l + 1} + 1\\right)$$"
      ],
      "text/plain": [
       "           _________________________________    \n",
       "          ╱  2                  2               \n",
       "f + l - ╲╱  f  + 2⋅f⋅l - 2⋅f + l  + 2⋅l + 1  + 1\n",
       "────────────────────────────────────────────────\n",
       "                      2⋅f                       "
      ]
     },
     "execution_count": 29,
     "metadata": {},
     "output_type": "execute_result"
    }
   ],
   "source": [
    "good_result_2"
   ]
  },
  {
   "cell_type": "code",
   "execution_count": 30,
   "metadata": {},
   "outputs": [
    {
     "data": {
      "image/png": "[encoded data removed]",
      "text/latex": [
       "$$\\frac{1}{2 f} \\left(f - \\sqrt{f^{2} - 2 f + 1} + 1\\right)$$"
      ],
      "text/plain": [
       "       ______________    \n",
       "      ╱  2               \n",
       "f - ╲╱  f  - 2⋅f + 1  + 1\n",
       "─────────────────────────\n",
       "           2⋅f           "
      ]
     },
     "execution_count": 30,
     "metadata": {},
     "output_type": "execute_result"
    }
   ],
   "source": [
    "good_result_2.subs(l, 0)"
   ]
  },
  {
   "cell_type": "markdown",
   "metadata": {},
   "source": [
    "#### Mean of the distribution?"
   ]
  },
  {
   "cell_type": "code",
   "execution_count": null,
   "metadata": {
    "collapsed": true
   },
   "outputs": [],
   "source": [
    "# sym.integrate(sym.sqrt((x-a)*(b-x)), x)"
   ]
  },
  {
   "cell_type": "code",
   "execution_count": null,
   "metadata": {
    "collapsed": true
   },
   "outputs": [],
   "source": []
  }
 ],
 "metadata": {
  "kernelspec": {
   "display_name": "Python 2",
   "language": "python",
   "name": "python2"
  },
  "language_info": {
   "codemirror_mode": {
    "name": "ipython",
    "version": 2
   },
   "file_extension": ".py",
   "mimetype": "text/x-python",
   "name": "python",
   "nbconvert_exporter": "python",
   "pygments_lexer": "ipython2",
   "version": "2.7.9"
  }
 },
 "nbformat": 4,
 "nbformat_minor": 2
}
