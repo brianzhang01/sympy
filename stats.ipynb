{
 "cells": [
  {
   "cell_type": "code",
   "execution_count": 1,
   "metadata": {},
   "outputs": [
    {
     "name": "stdout",
     "output_type": "stream",
     "text": [
      "1.1.1\n"
     ]
    }
   ],
   "source": [
    "import sympy as sym\n",
    "from IPython.display import display\n",
    "print sym.__version__"
   ]
  },
  {
   "cell_type": "code",
   "execution_count": 2,
   "metadata": {
    "collapsed": true
   },
   "outputs": [],
   "source": [
    "sym.init_printing(use_latex='mathjax')  # TODO: check if this is needed\n",
    "x, t = sym.symbols('x t', real=True)"
   ]
  },
  {
   "cell_type": "code",
   "execution_count": 3,
   "metadata": {
    "collapsed": true
   },
   "outputs": [],
   "source": [
    "def area(dist):\n",
    "    return sym.simplify(sym.integrate(dist, (x, -sym.oo, sym.oo)))\n",
    "\n",
    "def mean(dist):\n",
    "    return area(dist*x)\n",
    "\n",
    "def EX2(dist):\n",
    "    return area(dist*x**2)\n",
    "\n",
    "def variance(dist):\n",
    "    return sym.simplify(EX2(dist) - mean(dist)**2)\n",
    "\n",
    "def mgf(dist):\n",
    "    return sym.simplify(area(dist*sym.exp(x*t)))"
   ]
  },
  {
   "cell_type": "code",
   "execution_count": 4,
   "metadata": {
    "collapsed": true
   },
   "outputs": [],
   "source": [
    "def summarize(dist):\n",
    "    print \"Distribution:\"\n",
    "    display(dist)\n",
    "    print \"Mean:\"\n",
    "    display(mean(dist))\n",
    "    print \"Variance:\"\n",
    "    display(variance(dist))\n",
    "    print \"MGF:\"\n",
    "    display(mgf(dist))\n",
    "\n",
    "summarise = summarize  # alias"
   ]
  },
  {
   "cell_type": "code",
   "execution_count": 5,
   "metadata": {
    "collapsed": true
   },
   "outputs": [],
   "source": [
    "# Define other symbols that show up\n",
    "mu = sym.symbols('mu', real=True)\n",
    "sigma, a, b, lamb, nu = sym.symbols('sigma a b lambda nu', positive=True)"
   ]
  },
  {
   "cell_type": "markdown",
   "metadata": {},
   "source": [
    "### Normal distribution: $\\mathcal{N}(x; \\mu, \\sigma^2)$"
   ]
  },
  {
   "cell_type": "code",
   "execution_count": 6,
   "metadata": {},
   "outputs": [],
   "source": [
    "normal = (2*sym.pi*sigma**2) ** sym.Rational(-1, 2) * sym.exp(-(x-mu)**2/(2*sigma**2))"
   ]
  },
  {
   "cell_type": "code",
   "execution_count": 7,
   "metadata": {},
   "outputs": [
    {
     "name": "stdout",
     "output_type": "stream",
     "text": [
      "Distribution:\n"
     ]
    },
    {
     "data": {
      "text/latex": [
       "$$\\frac{\\sqrt{2}}{2 \\sqrt{\\pi} \\sigma} e^{- \\frac{\\left(- \\mu + x\\right)^{2}}{2 \\sigma^{2}}}$$"
      ],
      "text/plain": [
       "             2 \n",
       "    -(-μ + x)  \n",
       "    ───────────\n",
       "           2   \n",
       "        2⋅σ    \n",
       "√2⋅ℯ           \n",
       "───────────────\n",
       "     2⋅√π⋅σ    "
      ]
     },
     "metadata": {},
     "output_type": "display_data"
    },
    {
     "name": "stdout",
     "output_type": "stream",
     "text": [
      "Mean:\n"
     ]
    },
    {
     "data": {
      "text/latex": [
       "$$\\mu$$"
      ],
      "text/plain": [
       "μ"
      ]
     },
     "metadata": {},
     "output_type": "display_data"
    },
    {
     "name": "stdout",
     "output_type": "stream",
     "text": [
      "Variance:\n"
     ]
    },
    {
     "data": {
      "text/latex": [
       "$$\\sigma^{2}$$"
      ],
      "text/plain": [
       " 2\n",
       "σ "
      ]
     },
     "metadata": {},
     "output_type": "display_data"
    },
    {
     "name": "stdout",
     "output_type": "stream",
     "text": [
      "MGF:\n"
     ]
    },
    {
     "data": {
      "text/latex": [
       "$$e^{\\frac{t}{2} \\left(2 \\mu + \\sigma^{2} t\\right)}$$"
      ],
      "text/plain": [
       "   ⎛       2  ⎞\n",
       " t⋅⎝2⋅μ + σ ⋅t⎠\n",
       " ──────────────\n",
       "       2       \n",
       "ℯ              "
      ]
     },
     "metadata": {},
     "output_type": "display_data"
    }
   ],
   "source": [
    "summarize(normal)"
   ]
  },
  {
   "cell_type": "code",
   "execution_count": 8,
   "metadata": {},
   "outputs": [
    {
     "data": {
      "text/latex": [
       "$$\\frac{1}{2} \\operatorname{erf}{\\left (\\frac{\\sqrt{2}}{2 \\sigma} \\left(- \\mu + x\\right) \\right )}$$"
      ],
      "text/plain": [
       "   ⎛√2⋅(-μ + x)⎞\n",
       "erf⎜───────────⎟\n",
       "   ⎝    2⋅σ    ⎠\n",
       "────────────────\n",
       "       2        "
      ]
     },
     "execution_count": 8,
     "metadata": {},
     "output_type": "execute_result"
    }
   ],
   "source": [
    "sym.integrate(normal, x)"
   ]
  },
  {
   "cell_type": "markdown",
   "metadata": {},
   "source": [
    "### Laplace distribution: $DoubleExp(x; \\mu, b)$"
   ]
  },
  {
   "cell_type": "code",
   "execution_count": 9,
   "metadata": {
    "collapsed": true
   },
   "outputs": [],
   "source": [
    "laplace = (2*b) ** (-1) * sym.exp(-sym.Abs(x-mu)/b)"
   ]
  },
  {
   "cell_type": "code",
   "execution_count": 10,
   "metadata": {},
   "outputs": [
    {
     "name": "stdout",
     "output_type": "stream",
     "text": [
      "Distribution:\n"
     ]
    },
    {
     "data": {
      "text/latex": [
       "$$\\frac{1}{2 b} e^{- \\frac{1}{b} \\left|{\\mu - x}\\right|}$$"
      ],
      "text/plain": [
       " -│μ - x│ \n",
       " ─────────\n",
       "     b    \n",
       "ℯ         \n",
       "──────────\n",
       "   2⋅b    "
      ]
     },
     "metadata": {},
     "output_type": "display_data"
    },
    {
     "name": "stdout",
     "output_type": "stream",
     "text": [
      "Mean:\n"
     ]
    },
    {
     "data": {
      "text/latex": [
       "$$\\mu$$"
      ],
      "text/plain": [
       "μ"
      ]
     },
     "metadata": {},
     "output_type": "display_data"
    },
    {
     "name": "stdout",
     "output_type": "stream",
     "text": [
      "Variance:\n"
     ]
    },
    {
     "data": {
      "text/latex": [
       "$$2 b^{2}$$"
      ],
      "text/plain": [
       "   2\n",
       "2⋅b "
      ]
     },
     "metadata": {},
     "output_type": "display_data"
    },
    {
     "name": "stdout",
     "output_type": "stream",
     "text": [
      "MGF:\n"
     ]
    },
    {
     "data": {
      "text/latex": [
       "$$\\begin{cases} - \\frac{e^{\\mu t}}{b^{2} t^{2} - 1} & \\text{for}\\: \\operatorname{periodic_{argument}}{\\left (e^{\\frac{i \\pi}{2}} \\operatorname{polar\\_lift}{\\left (t \\right )},\\infty \\right )} = 0 \\\\\\int_{-\\infty}^{\\infty} \\frac{1}{2 b} e^{\\frac{1}{b} \\left(b t x - \\left|{\\mu - x}\\right|\\right)}\\, dx & \\text{otherwise} \\end{cases}$$"
      ],
      "text/plain": [
       "⎧                                             ⎛ ⅈ⋅π                 ⎞    \n",
       "⎪          μ⋅t                                ⎜ ───                 ⎟    \n",
       "⎪        -ℯ                                   ⎜  2                  ⎟    \n",
       "⎪      ─────────         for periodic_argument⎝ℯ   ⋅polar_lift(t), ∞⎠ = 0\n",
       "⎪       2  2                                                             \n",
       "⎪      b ⋅t  - 1                                                         \n",
       "⎪                                                                        \n",
       "⎪∞                                                                       \n",
       "⎨⌠                                                                       \n",
       "⎪⎮   b⋅t⋅x - │μ - x│                                                     \n",
       "⎪⎮   ───────────────                                                     \n",
       "⎪⎮          b                                                            \n",
       "⎪⎮  ℯ                                                                    \n",
       "⎪⎮  ──────────────── dx                     otherwise                    \n",
       "⎪⎮        2⋅b                                                            \n",
       "⎪⌡                                                                       \n",
       "⎩-∞                                                                      "
      ]
     },
     "metadata": {},
     "output_type": "display_data"
    }
   ],
   "source": [
    "summarize(laplace)"
   ]
  },
  {
   "cell_type": "code",
   "execution_count": 11,
   "metadata": {},
   "outputs": [],
   "source": [
    "# sym.refine(mgf(laplace), sym.Q.positive(1/b - sym.Abs(t)))  # had to abort"
   ]
  },
  {
   "cell_type": "markdown",
   "metadata": {},
   "source": [
    "### Exponential distribution: $Exp(x; \\lambda)$"
   ]
  },
  {
   "cell_type": "code",
   "execution_count": 12,
   "metadata": {
    "collapsed": true
   },
   "outputs": [],
   "source": [
    "expo = sym.Piecewise(\n",
    "    (0, x < 0),\n",
    "    (lamb * sym.exp(-lamb*x), True)\n",
    ")"
   ]
  },
  {
   "cell_type": "code",
   "execution_count": 13,
   "metadata": {},
   "outputs": [
    {
     "name": "stdout",
     "output_type": "stream",
     "text": [
      "Distribution:\n"
     ]
    },
    {
     "data": {
      "text/latex": [
       "$$\\begin{cases} 0 & \\text{for}\\: x < 0 \\\\\\lambda e^{- \\lambda x} & \\text{otherwise} \\end{cases}$$"
      ],
      "text/plain": [
       "⎧   0     for x < 0\n",
       "⎪                  \n",
       "⎨   -λ⋅x           \n",
       "⎪λ⋅ℯ      otherwise\n",
       "⎩                  "
      ]
     },
     "metadata": {},
     "output_type": "display_data"
    },
    {
     "name": "stdout",
     "output_type": "stream",
     "text": [
      "Mean:\n"
     ]
    },
    {
     "data": {
      "text/latex": [
       "$$\\frac{1}{\\lambda}$$"
      ],
      "text/plain": [
       "1\n",
       "─\n",
       "λ"
      ]
     },
     "metadata": {},
     "output_type": "display_data"
    },
    {
     "name": "stdout",
     "output_type": "stream",
     "text": [
      "Variance:\n"
     ]
    },
    {
     "data": {
      "text/latex": [
       "$$\\frac{1}{\\lambda^{2}}$$"
      ],
      "text/plain": [
       "1 \n",
       "──\n",
       " 2\n",
       "λ "
      ]
     },
     "metadata": {},
     "output_type": "display_data"
    },
    {
     "name": "stdout",
     "output_type": "stream",
     "text": [
      "MGF:\n"
     ]
    },
    {
     "data": {
      "text/latex": [
       "$$\\begin{cases} \\frac{\\lambda}{\\lambda - t} & \\text{for}\\: \\left|{\\operatorname{periodic_{argument}}{\\left (e^{i \\pi} \\operatorname{polar\\_lift}{\\left (t \\right )},\\infty \\right )}}\\right| \\leq \\frac{\\pi}{2} \\\\\\int_{-\\infty}^{\\infty} \\begin{cases} 0 & \\text{for}\\: x < 0 \\\\\\lambda e^{- x \\left(\\lambda - t\\right)} & \\text{otherwise} \\end{cases}\\, dx & \\text{otherwise} \\end{cases}$$"
      ],
      "text/plain": [
       "⎧               λ                     │                 ⎛ ⅈ⋅π                 \n",
       "⎪             ─────               for │periodic_argument⎝ℯ   ⋅polar_lift(t), ∞\n",
       "⎪             λ - t                                                           \n",
       "⎪                                                                             \n",
       "⎪∞                                                                            \n",
       "⎪⌠                                                                            \n",
       "⎨⎮  ⎧      0        for x < 0                                                 \n",
       "⎪⎮  ⎪                                                                         \n",
       "⎪⎮  ⎨   -x⋅(λ - t)            dx                      otherwise               \n",
       "⎪⎮  ⎪λ⋅ℯ            otherwise                                                 \n",
       "⎪⎮  ⎩                                                                         \n",
       "⎪⌡                                                                            \n",
       "⎩-∞                                                                           \n",
       "\n",
       "⎞│   π\n",
       "⎠│ ≤ ─\n",
       "     2\n",
       "      \n",
       "      \n",
       "      \n",
       "      \n",
       "      \n",
       "      \n",
       "      \n",
       "      \n",
       "      \n",
       "      "
      ]
     },
     "metadata": {},
     "output_type": "display_data"
    }
   ],
   "source": [
    "summarize(expo)"
   ]
  },
  {
   "cell_type": "markdown",
   "metadata": {},
   "source": [
    "### Gamma distribution: $Gamma(x; a, b)$"
   ]
  },
  {
   "cell_type": "code",
   "execution_count": 14,
   "metadata": {
    "collapsed": true
   },
   "outputs": [],
   "source": [
    "gamma = sym.Piecewise(\n",
    "    (0, x < 0),\n",
    "    (b**a / sym.gamma(a) * x**(a-1) * sym.exp(-x*b), True)\n",
    ")"
   ]
  },
  {
   "cell_type": "code",
   "execution_count": 15,
   "metadata": {},
   "outputs": [
    {
     "name": "stdout",
     "output_type": "stream",
     "text": [
      "Distribution:\n"
     ]
    },
    {
     "data": {
      "text/latex": [
       "$$\\begin{cases} 0 & \\text{for}\\: x < 0 \\\\\\frac{b^{a} x^{a - 1}}{\\Gamma{\\left(a \\right)}} e^{- b x} & \\text{otherwise} \\end{cases}$$"
      ],
      "text/plain": [
       "⎧       0         for x < 0\n",
       "⎪                          \n",
       "⎪ a  a - 1  -b⋅x           \n",
       "⎨b ⋅x     ⋅ℯ               \n",
       "⎪───────────────  otherwise\n",
       "⎪      Γ(a)                \n",
       "⎩                          "
      ]
     },
     "metadata": {},
     "output_type": "display_data"
    },
    {
     "name": "stdout",
     "output_type": "stream",
     "text": [
      "Mean:\n"
     ]
    },
    {
     "data": {
      "text/latex": [
       "$$\\frac{a}{b}$$"
      ],
      "text/plain": [
       "a\n",
       "─\n",
       "b"
      ]
     },
     "metadata": {},
     "output_type": "display_data"
    },
    {
     "name": "stdout",
     "output_type": "stream",
     "text": [
      "Variance:\n"
     ]
    },
    {
     "data": {
      "text/latex": [
       "$$\\frac{a}{b^{2}}$$"
      ],
      "text/plain": [
       "a \n",
       "──\n",
       " 2\n",
       "b "
      ]
     },
     "metadata": {},
     "output_type": "display_data"
    },
    {
     "name": "stdout",
     "output_type": "stream",
     "text": [
      "MGF:\n"
     ]
    },
    {
     "data": {
      "text/latex": [
       "$$\\begin{cases} \\begin{cases} b^{a} t^{- a} \\left(\\frac{1}{t} \\left(b - t\\right)\\right)^{- a} & \\text{for}\\: \\frac{b}{\\left|{t}\\right|} > 1 \\\\b^{a} t^{- a} \\left(\\frac{1}{t} \\left(- b + t\\right)\\right)^{- a} e^{- i \\pi a} & \\text{otherwise} \\end{cases} & \\text{for}\\: \\left|{\\operatorname{periodic_{argument}}{\\left (e^{i \\pi} \\operatorname{polar\\_lift}{\\left (t \\right )},\\infty \\right )}}\\right| \\leq \\frac{\\pi}{2} \\\\\\int_{-\\infty}^{\\infty} \\begin{cases} 0 & \\text{for}\\: x < 0 \\\\\\frac{b^{a} x^{a - 1}}{\\Gamma{\\left(a \\right)}} e^{x \\left(- b + t\\right)} & \\text{otherwise} \\end{cases}\\, dx & \\text{otherwise} \\end{cases}$$"
      ],
      "text/plain": [
       "⎧⎧                  -a                                                        \n",
       "⎪⎪     a  -a ⎛b - t⎞              b                                           \n",
       "⎪⎪    b ⋅t  ⋅⎜─────⎟         for ─── > 1                                      \n",
       "⎪⎪           ⎝  t  ⎠             │t│          │                 ⎛ ⅈ⋅π         \n",
       "⎪⎨                                        for │periodic_argument⎝ℯ   ⋅polar_li\n",
       "⎪⎪               -a                                                           \n",
       "⎪⎪ a  -a ⎛-b + t⎞    -ⅈ⋅π⋅a                                                   \n",
       "⎪⎪b ⋅t  ⋅⎜──────⎟  ⋅ℯ         otherwise                                       \n",
       "⎪⎩       ⎝  t   ⎠                                                             \n",
       "⎪                                                                             \n",
       "⎨∞                                                                            \n",
       "⎪⌠                                                                            \n",
       "⎪⎮  ⎧          0            for x < 0                                         \n",
       "⎪⎮  ⎪                                                                         \n",
       "⎪⎮  ⎪ a  a - 1  x⋅(-b + t)                                                    \n",
       "⎪⎮  ⎨b ⋅x     ⋅ℯ                      dx                      otherwise       \n",
       "⎪⎮  ⎪─────────────────────  otherwise                                         \n",
       "⎪⎮  ⎪         Γ(a)                                                            \n",
       "⎪⎮  ⎩                                                                         \n",
       "⎪⌡                                                                            \n",
       "⎩-∞                                                                           \n",
       "\n",
       "              \n",
       "              \n",
       "              \n",
       "        ⎞│   π\n",
       "ft(t), ∞⎠│ ≤ ─\n",
       "             2\n",
       "              \n",
       "              \n",
       "              \n",
       "              \n",
       "              \n",
       "              \n",
       "              \n",
       "              \n",
       "              \n",
       "              \n",
       "              \n",
       "              \n",
       "              \n",
       "              \n",
       "              "
      ]
     },
     "metadata": {},
     "output_type": "display_data"
    }
   ],
   "source": [
    "summarize(gamma)"
   ]
  },
  {
   "cell_type": "markdown",
   "metadata": {},
   "source": [
    "### Beta distribution: $Beta(x; a, b)$"
   ]
  },
  {
   "cell_type": "code",
   "execution_count": 16,
   "metadata": {
    "collapsed": true
   },
   "outputs": [],
   "source": [
    "beta = sym.Piecewise(\n",
    "    (0, x < 0),\n",
    "    (0, x > 1),\n",
    "    (x**(a-1)*(1-x)**(b-1)/(sym.gamma(a)*sym.gamma(b)/sym.gamma(a+b)), True)\n",
    ")"
   ]
  },
  {
   "cell_type": "code",
   "execution_count": 17,
   "metadata": {},
   "outputs": [
    {
     "data": {
      "text/latex": [
       "$$\\begin{cases} 0 & \\text{for}\\: x > 1 \\vee x < 0 \\\\\\frac{x^{a - 1} \\Gamma{\\left(a + b \\right)}}{\\Gamma{\\left(a \\right)} \\Gamma{\\left(b \\right)}} \\left(- x + 1\\right)^{b - 1} & \\text{otherwise} \\end{cases}$$"
      ],
      "text/plain": [
       "⎧              0                for x > 1 ∨ x < 0\n",
       "⎪                                                \n",
       "⎪ a - 1         b - 1                            \n",
       "⎨x     ⋅(-x + 1)     ⋅Γ(a + b)                   \n",
       "⎪─────────────────────────────      otherwise    \n",
       "⎪          Γ(a)⋅Γ(b)                             \n",
       "⎩                                                "
      ]
     },
     "execution_count": 17,
     "metadata": {},
     "output_type": "execute_result"
    }
   ],
   "source": [
    "beta"
   ]
  },
  {
   "cell_type": "code",
   "execution_count": 18,
   "metadata": {},
   "outputs": [],
   "source": [
    "# mean(beta)  # had to abort"
   ]
  },
  {
   "cell_type": "markdown",
   "metadata": {},
   "source": [
    "### Uniform distribution"
   ]
  },
  {
   "cell_type": "code",
   "execution_count": 19,
   "metadata": {},
   "outputs": [],
   "source": [
    "uniform = sym.Piecewise(\n",
    "    (0, x < 0),\n",
    "    (0, x > 1),\n",
    "    (1, True)\n",
    ")"
   ]
  },
  {
   "cell_type": "code",
   "execution_count": 20,
   "metadata": {},
   "outputs": [
    {
     "name": "stdout",
     "output_type": "stream",
     "text": [
      "Distribution:\n"
     ]
    },
    {
     "data": {
      "text/latex": [
       "$$\\begin{cases} 0 & \\text{for}\\: x > 1 \\vee x < 0 \\\\1 & \\text{otherwise} \\end{cases}$$"
      ],
      "text/plain": [
       "⎧0  for x > 1 ∨ x < 0\n",
       "⎨                    \n",
       "⎩1      otherwise    "
      ]
     },
     "metadata": {},
     "output_type": "display_data"
    },
    {
     "name": "stdout",
     "output_type": "stream",
     "text": [
      "Mean:\n"
     ]
    },
    {
     "data": {
      "text/latex": [
       "$$\\frac{1}{2}$$"
      ],
      "text/plain": [
       "1/2"
      ]
     },
     "metadata": {},
     "output_type": "display_data"
    },
    {
     "name": "stdout",
     "output_type": "stream",
     "text": [
      "Variance:\n"
     ]
    },
    {
     "data": {
      "text/latex": [
       "$$\\frac{1}{12}$$"
      ],
      "text/plain": [
       "1/12"
      ]
     },
     "metadata": {},
     "output_type": "display_data"
    },
    {
     "name": "stdout",
     "output_type": "stream",
     "text": [
      "MGF:\n"
     ]
    },
    {
     "data": {
      "text/latex": [
       "$$\\begin{cases} 1 & \\text{for}\\: t = 0 \\\\\\frac{1}{t} \\left(e^{t} - 1\\right) & \\text{otherwise} \\end{cases}$$"
      ],
      "text/plain": [
       "⎧  1     for t = 0\n",
       "⎪                 \n",
       "⎪ t               \n",
       "⎨ℯ  - 1           \n",
       "⎪──────  otherwise\n",
       "⎪  t              \n",
       "⎩                 "
      ]
     },
     "metadata": {},
     "output_type": "display_data"
    }
   ],
   "source": [
    "summarize(uniform)"
   ]
  },
  {
   "cell_type": "markdown",
   "metadata": {},
   "source": [
    "### Student t distribution"
   ]
  },
  {
   "cell_type": "code",
   "execution_count": 21,
   "metadata": {
    "collapsed": true
   },
   "outputs": [],
   "source": [
    "student = (1 + ((x-mu) / sigma)**2 / nu)**(-(1+nu)/2) * sym.gamma((nu+1)/2)/(sym.gamma(nu/2)*sym.sqrt(nu*sym.pi)*sigma)"
   ]
  },
  {
   "cell_type": "markdown",
   "metadata": {},
   "source": [
    "Student's t doesn't have an MGF, so we just compute the ones we want"
   ]
  },
  {
   "cell_type": "code",
   "execution_count": 22,
   "metadata": {},
   "outputs": [
    {
     "data": {
      "text/latex": [
       "$$\\frac{\\left(1 + \\frac{\\left(- \\mu + x\\right)^{2}}{\\nu \\sigma^{2}}\\right)^{- \\frac{\\nu}{2} - \\frac{1}{2}}}{\\sqrt{\\pi} \\sqrt{\\nu} \\sigma \\Gamma{\\left(\\frac{\\nu}{2} \\right)}} \\Gamma{\\left(\\frac{\\nu}{2} + \\frac{1}{2} \\right)}$$"
      ],
      "text/plain": [
       "                 ν   1         \n",
       "               - ─ - ─         \n",
       "                 2   2         \n",
       "⎛            2⎞                \n",
       "⎜    (-μ + x) ⎟         ⎛ν   1⎞\n",
       "⎜1 + ─────────⎟       ⋅Γ⎜─ + ─⎟\n",
       "⎜          2  ⎟         ⎝2   2⎠\n",
       "⎝       ν⋅σ   ⎠                \n",
       "───────────────────────────────\n",
       "                   ⎛ν⎞         \n",
       "          √π⋅√ν⋅σ⋅Γ⎜─⎟         \n",
       "                   ⎝2⎠         "
      ]
     },
     "execution_count": 22,
     "metadata": {},
     "output_type": "execute_result"
    }
   ],
   "source": [
    "student"
   ]
  },
  {
   "cell_type": "code",
   "execution_count": 23,
   "metadata": {},
   "outputs": [
    {
     "data": {
      "text/latex": [
       "$$\\begin{cases} \\mu & \\text{for}\\: \\frac{\\nu}{2} + \\frac{1}{2} > 1 \\\\\\int_{-\\infty}^{\\infty} \\frac{\\nu^{\\frac{\\nu}{2} + 1} \\sigma^{\\nu} x \\Gamma{\\left(\\frac{\\nu}{2} + \\frac{1}{2} \\right)}}{2 \\sqrt{\\pi} \\Gamma{\\left(\\frac{\\nu}{2} + 1 \\right)}} \\left(\\mu^{2} - 2 \\mu x + \\nu \\sigma^{2} + x^{2}\\right)^{- \\frac{\\nu}{2} - \\frac{1}{2}}\\, dx & \\text{otherwise} \\end{cases}$$"
      ],
      "text/plain": [
       "⎧                                                                ν   1    \n",
       "⎪                            μ                               for ─ + ─ > 1\n",
       "⎪                                                                2   2    \n",
       "⎪                                                                         \n",
       "⎪∞                                                                        \n",
       "⎪⌠                                                                        \n",
       "⎪⎮                                        ν   1                           \n",
       "⎪⎮   ν                                  - ─ - ─                           \n",
       "⎪⎮   ─ + 1                                2   2                           \n",
       "⎨⎮   2      ν   ⎛ 2              2    2⎞         ⎛ν   1⎞                  \n",
       "⎪⎮  ν     ⋅σ ⋅x⋅⎝μ  - 2⋅μ⋅x + ν⋅σ  + x ⎠       ⋅Γ⎜─ + ─⎟                  \n",
       "⎪⎮                                               ⎝2   2⎠                  \n",
       "⎪⎮  ──────────────────────────────────────────────────── dx    otherwise  \n",
       "⎪⎮                           ⎛ν    ⎞                                      \n",
       "⎪⎮                     2⋅√π⋅Γ⎜─ + 1⎟                                      \n",
       "⎪⎮                           ⎝2    ⎠                                      \n",
       "⎪⌡                                                                        \n",
       "⎪-∞                                                                       \n",
       "⎩                                                                         "
      ]
     },
     "execution_count": 23,
     "metadata": {},
     "output_type": "execute_result"
    }
   ],
   "source": [
    "mean(student)"
   ]
  },
  {
   "cell_type": "code",
   "execution_count": 24,
   "metadata": {},
   "outputs": [
    {
     "data": {
      "text/latex": [
       "$$- \\begin{cases} \\mu^{2} & \\text{for}\\: \\frac{\\nu}{2} + \\frac{1}{2} > 1 \\\\\\left(\\int_{-\\infty}^{\\infty} \\frac{\\nu^{\\frac{\\nu}{2} + 1} \\sigma^{\\nu} x \\Gamma{\\left(\\frac{\\nu}{2} + \\frac{1}{2} \\right)}}{2 \\sqrt{\\pi} \\Gamma{\\left(\\frac{\\nu}{2} + 1 \\right)}} \\left(\\mu^{2} - 2 \\mu x + \\nu \\sigma^{2} + x^{2}\\right)^{- \\frac{\\nu}{2} - \\frac{1}{2}}\\, dx\\right)^{2} & \\text{otherwise} \\end{cases} + \\begin{cases} - \\frac{1}{\\left(\\nu - 2\\right) \\cos^{2}{\\left (\\frac{\\pi \\nu}{2} \\right )}} \\left(\\sin{\\left (\\frac{\\pi \\nu}{2} \\right )} - 1\\right) \\left(\\sin{\\left (\\frac{\\pi \\nu}{2} \\right )} + 1\\right) \\left(\\mu^{2} \\nu - 2 \\mu^{2} + \\nu \\sigma^{2}\\right) & \\text{for}\\: - \\frac{\\nu}{2} + \\frac{5}{2} < 2 \\wedge - \\frac{\\nu}{2} + 3 < 2 \\\\\\int_{-\\infty}^{\\infty} \\frac{\\nu^{\\frac{\\nu}{2} + 1} \\sigma^{\\nu} x^{2} \\Gamma{\\left(\\frac{\\nu}{2} + \\frac{1}{2} \\right)}}{2 \\sqrt{\\pi} \\Gamma{\\left(\\frac{\\nu}{2} + 1 \\right)}} \\left(\\mu^{2} - 2 \\mu x + \\nu \\sigma^{2} + x^{2}\\right)^{- \\frac{\\nu}{2} - \\frac{1}{2}}\\, dx & \\text{otherwise} \\end{cases}$$"
      ],
      "text/plain": [
       "                                                                              \n",
       "                                                                              \n",
       "  ⎛⎧                              2                                    ν   1  \n",
       "  ⎜⎪                             μ                                 for ─ + ─ >\n",
       "  ⎜⎪                                                                   2   2  \n",
       "  ⎜⎪                                                                          \n",
       "  ⎜⎪                                                            2             \n",
       "  ⎜⎪⎛∞                                                         ⎞              \n",
       "  ⎜⎪⎜⌠                                                         ⎟              \n",
       "  ⎜⎪⎜⎮                                        ν   1            ⎟              \n",
       "  ⎜⎪⎜⎮   ν                                  - ─ - ─            ⎟              \n",
       "- ⎜⎨⎜⎮   ─ + 1                                2   2            ⎟              \n",
       "  ⎜⎪⎜⎮   2      ν   ⎛ 2              2    2⎞         ⎛ν   1⎞   ⎟              \n",
       "  ⎜⎪⎜⎮  ν     ⋅σ ⋅x⋅⎝μ  - 2⋅μ⋅x + ν⋅σ  + x ⎠       ⋅Γ⎜─ + ─⎟   ⎟              \n",
       "  ⎜⎪⎜⎮                                               ⎝2   2⎠   ⎟              \n",
       "  ⎜⎪⎜⎮  ──────────────────────────────────────────────────── dx⎟     otherwise\n",
       "  ⎜⎪⎜⎮                           ⎛ν    ⎞                       ⎟              \n",
       "  ⎜⎪⎜⎮                     2⋅√π⋅Γ⎜─ + 1⎟                       ⎟              \n",
       "  ⎜⎪⎜⎮                           ⎝2    ⎠                       ⎟              \n",
       "  ⎜⎪⎜⌡                                                         ⎟              \n",
       "  ⎝⎩⎝-∞                                                        ⎠              \n",
       "                                                                              \n",
       "                                                                              \n",
       "\n",
       "      ⎛⎧    ⎛   ⎛π⋅ν⎞    ⎞ ⎛   ⎛π⋅ν⎞    ⎞ ⎛ 2        2      2⎞                \n",
       "      ⎜⎪   -⎜sin⎜───⎟ - 1⎟⋅⎜sin⎜───⎟ + 1⎟⋅⎝μ ⋅ν - 2⋅μ  + ν⋅σ ⎠                \n",
       "  ⎞   ⎜⎪    ⎝   ⎝ 2 ⎠    ⎠ ⎝   ⎝ 2 ⎠    ⎠                                  ν  \n",
       " 1⎟   ⎜⎪   ────────────────────────────────────────────────────      for - ─ +\n",
       "  ⎟   ⎜⎪                               2⎛π⋅ν⎞                              2  \n",
       "  ⎟   ⎜⎪                    (ν - 2)⋅cos ⎜───⎟                                 \n",
       "  ⎟   ⎜⎪                                ⎝ 2 ⎠                                 \n",
       "  ⎟   ⎜⎪                                                                      \n",
       "  ⎟   ⎜⎪∞                                                                     \n",
       "  ⎟   ⎜⎪⌠                                                                     \n",
       "  ⎟   ⎜⎪⎮                                         ν   1                       \n",
       "  ⎟ + ⎜⎨⎮   ν                                   - ─ - ─                       \n",
       "  ⎟   ⎜⎪⎮   ─ + 1                                 2   2                       \n",
       "  ⎟   ⎜⎪⎮   2      ν  2 ⎛ 2              2    2⎞         ⎛ν   1⎞              \n",
       "  ⎟   ⎜⎪⎮  ν     ⋅σ ⋅x ⋅⎝μ  - 2⋅μ⋅x + ν⋅σ  + x ⎠       ⋅Γ⎜─ + ─⎟              \n",
       "  ⎟   ⎜⎪⎮                                                ⎝2   2⎠              \n",
       "  ⎟   ⎜⎪⎮  ───────────────────────────────────────────────────── dx           \n",
       "  ⎟   ⎜⎪⎮                            ⎛ν    ⎞                                  \n",
       "  ⎟   ⎜⎪⎮                      2⋅√π⋅Γ⎜─ + 1⎟                                  \n",
       "  ⎟   ⎜⎪⎮                            ⎝2    ⎠                                  \n",
       "  ⎠   ⎜⎪⌡                                                                     \n",
       "      ⎜⎪-∞                                                                    \n",
       "      ⎝⎩                                                                      \n",
       "\n",
       "                    ⎞\n",
       "                    ⎟\n",
       " 5         ν        ⎟\n",
       " ─ < 2 ∧ - ─ + 3 < 2⎟\n",
       " 2         2        ⎟\n",
       "                    ⎟\n",
       "                    ⎟\n",
       "                    ⎟\n",
       "                    ⎟\n",
       "                    ⎟\n",
       "                    ⎟\n",
       "                    ⎟\n",
       "                    ⎟\n",
       "                    ⎟\n",
       "                    ⎟\n",
       "                    ⎟\n",
       " otherwise          ⎟\n",
       "                    ⎟\n",
       "                    ⎟\n",
       "                    ⎟\n",
       "                    ⎟\n",
       "                    ⎟\n",
       "                    ⎠"
      ]
     },
     "execution_count": 24,
     "metadata": {},
     "output_type": "execute_result"
    }
   ],
   "source": [
    "variance(student)"
   ]
  },
  {
   "cell_type": "markdown",
   "metadata": {},
   "source": [
    "Note that not all the simplifications have been made, the mean should be $\\mu$ and variance should be $\\nu \\sigma^2 / (\\nu - 2)$"
   ]
  },
  {
   "cell_type": "code",
   "execution_count": 25,
   "metadata": {},
   "outputs": [
    {
     "data": {
      "text/latex": [
       "$$- \\begin{cases} \\mu^{2} & \\text{for}\\: \\frac{\\nu}{2} + \\frac{1}{2} > 1 \\\\\\left(\\int_{-\\infty}^{\\infty} \\frac{\\nu^{\\frac{\\nu}{2} + 1} \\sigma^{\\nu} x \\Gamma{\\left(\\frac{\\nu}{2} + \\frac{1}{2} \\right)}}{2 \\sqrt{\\pi} \\Gamma{\\left(\\frac{\\nu}{2} + 1 \\right)}} \\left(\\mu^{2} - 2 \\mu x + \\nu \\sigma^{2} + x^{2}\\right)^{- \\frac{\\nu}{2} - \\frac{1}{2}}\\, dx\\right)^{2} & \\text{otherwise} \\end{cases} + \\begin{cases} \\frac{2 \\left(\\mu^{2} \\nu - 2 \\mu^{2} + \\nu \\sigma^{2}\\right) \\cos^{2}{\\left (\\frac{\\pi \\nu}{2} \\right )}}{\\left(\\nu - 2\\right) \\left(\\cos{\\left (\\pi \\nu \\right )} + 1\\right)} & \\text{for}\\: - \\frac{\\nu}{2} + \\frac{5}{2} < 2 \\wedge - \\frac{\\nu}{2} + 3 < 2 \\\\\\int_{-\\infty}^{\\infty} \\frac{\\nu^{\\frac{\\nu}{2} + 1} \\sigma^{\\nu} x^{2} \\Gamma{\\left(\\frac{\\nu}{2} + \\frac{1}{2} \\right)}}{2 \\sqrt{\\pi} \\Gamma{\\left(\\frac{\\nu}{2} + 1 \\right)}} \\left(\\mu^{2} - 2 \\mu x + \\nu \\sigma^{2} + x^{2}\\right)^{- \\frac{\\nu}{2} - \\frac{1}{2}}\\, dx & \\text{otherwise} \\end{cases}$$"
      ],
      "text/plain": [
       "                                                                              \n",
       "  ⎛⎧                              2                                    ν   1  \n",
       "  ⎜⎪                             μ                                 for ─ + ─ >\n",
       "  ⎜⎪                                                                   2   2  \n",
       "  ⎜⎪                                                                          \n",
       "  ⎜⎪                                                            2             \n",
       "  ⎜⎪⎛∞                                                         ⎞              \n",
       "  ⎜⎪⎜⌠                                                         ⎟              \n",
       "  ⎜⎪⎜⎮                                        ν   1            ⎟              \n",
       "  ⎜⎪⎜⎮   ν                                  - ─ - ─            ⎟              \n",
       "- ⎜⎨⎜⎮   ─ + 1                                2   2            ⎟              \n",
       "  ⎜⎪⎜⎮   2      ν   ⎛ 2              2    2⎞         ⎛ν   1⎞   ⎟              \n",
       "  ⎜⎪⎜⎮  ν     ⋅σ ⋅x⋅⎝μ  - 2⋅μ⋅x + ν⋅σ  + x ⎠       ⋅Γ⎜─ + ─⎟   ⎟              \n",
       "  ⎜⎪⎜⎮                                               ⎝2   2⎠   ⎟              \n",
       "  ⎜⎪⎜⎮  ──────────────────────────────────────────────────── dx⎟     otherwise\n",
       "  ⎜⎪⎜⎮                           ⎛ν    ⎞                       ⎟              \n",
       "  ⎜⎪⎜⎮                     2⋅√π⋅Γ⎜─ + 1⎟                       ⎟              \n",
       "  ⎜⎪⎜⎮                           ⎝2    ⎠                       ⎟              \n",
       "  ⎜⎪⎜⌡                                                         ⎟              \n",
       "  ⎝⎩⎝-∞                                                        ⎠              \n",
       "                                                                              \n",
       "\n",
       "      ⎛⎧               ⎛ 2        2      2⎞    2⎛π⋅ν⎞                         \n",
       "  ⎞   ⎜⎪             2⋅⎝μ ⋅ν - 2⋅μ  + ν⋅σ ⎠⋅cos ⎜───⎟                         \n",
       " 1⎟   ⎜⎪                                        ⎝ 2 ⎠                      ν  \n",
       "  ⎟   ⎜⎪             ────────────────────────────────                for - ─ +\n",
       "  ⎟   ⎜⎪                  (ν - 2)⋅(cos(π⋅ν) + 1)                           2  \n",
       "  ⎟   ⎜⎪                                                                      \n",
       "  ⎟   ⎜⎪∞                                                                     \n",
       "  ⎟   ⎜⎪⌠                                                                     \n",
       "  ⎟   ⎜⎪⎮                                         ν   1                       \n",
       "  ⎟   ⎜⎪⎮   ν                                   - ─ - ─                       \n",
       "  ⎟ + ⎜⎨⎮   ─ + 1                                 2   2                       \n",
       "  ⎟   ⎜⎪⎮   2      ν  2 ⎛ 2              2    2⎞         ⎛ν   1⎞              \n",
       "  ⎟   ⎜⎪⎮  ν     ⋅σ ⋅x ⋅⎝μ  - 2⋅μ⋅x + ν⋅σ  + x ⎠       ⋅Γ⎜─ + ─⎟              \n",
       "  ⎟   ⎜⎪⎮                                                ⎝2   2⎠              \n",
       "  ⎟   ⎜⎪⎮  ───────────────────────────────────────────────────── dx           \n",
       "  ⎟   ⎜⎪⎮                            ⎛ν    ⎞                                  \n",
       "  ⎟   ⎜⎪⎮                      2⋅√π⋅Γ⎜─ + 1⎟                                  \n",
       "  ⎟   ⎜⎪⎮                            ⎝2    ⎠                                  \n",
       "  ⎟   ⎜⎪⌡                                                                     \n",
       "  ⎠   ⎜⎪-∞                                                                    \n",
       "      ⎝⎩                                                                      \n",
       "\n",
       "                    ⎞\n",
       "                    ⎟\n",
       " 5         ν        ⎟\n",
       " ─ < 2 ∧ - ─ + 3 < 2⎟\n",
       " 2         2        ⎟\n",
       "                    ⎟\n",
       "                    ⎟\n",
       "                    ⎟\n",
       "                    ⎟\n",
       "                    ⎟\n",
       "                    ⎟\n",
       "                    ⎟\n",
       "                    ⎟\n",
       "                    ⎟\n",
       " otherwise          ⎟\n",
       "                    ⎟\n",
       "                    ⎟\n",
       "                    ⎟\n",
       "                    ⎟\n",
       "                    ⎟\n",
       "                    ⎠"
      ]
     },
     "execution_count": 25,
     "metadata": {},
     "output_type": "execute_result"
    }
   ],
   "source": [
    "sym.trigsimp(variance(student))"
   ]
  },
  {
   "cell_type": "markdown",
   "metadata": {},
   "source": [
    "Why doesn't it cancel?!?!"
   ]
  },
  {
   "cell_type": "code",
   "execution_count": 26,
   "metadata": {},
   "outputs": [
    {
     "data": {
      "text/latex": [
       "$$- \\mu^{2} + \\frac{1}{\\nu - 2} \\left(\\mu^{2} \\nu - 2 \\mu^{2} + \\nu \\sigma^{2}\\right)$$"
      ],
      "text/plain": [
       "        2        2      2\n",
       "   2   μ ⋅ν - 2⋅μ  + ν⋅σ \n",
       "- μ  + ──────────────────\n",
       "             ν - 2       "
      ]
     },
     "execution_count": 26,
     "metadata": {},
     "output_type": "execute_result"
    }
   ],
   "source": [
    "-mu**2 + (mu**2*nu-2*mu**2+nu*sigma**2)/(nu-2)"
   ]
  },
  {
   "cell_type": "code",
   "execution_count": 27,
   "metadata": {},
   "outputs": [
    {
     "data": {
      "text/latex": [
       "$$\\frac{\\nu \\sigma^{2}}{\\nu - 2}$$"
      ],
      "text/plain": [
       "    2\n",
       " ν⋅σ \n",
       "─────\n",
       "ν - 2"
      ]
     },
     "execution_count": 27,
     "metadata": {},
     "output_type": "execute_result"
    }
   ],
   "source": [
    "sym.simplify(-mu**2 + (mu**2*nu-2*mu**2+nu*sigma**2)/(nu-2))"
   ]
  },
  {
   "cell_type": "code",
   "execution_count": 28,
   "metadata": {},
   "outputs": [
    {
     "data": {
      "text/latex": [
       "$$\\frac{\\cos^{2}{\\left (\\frac{x}{2} \\right )}}{\\cos{\\left (x \\right )} + 1}$$"
      ],
      "text/plain": [
       "    2⎛x⎞  \n",
       " cos ⎜─⎟  \n",
       "     ⎝2⎠  \n",
       "──────────\n",
       "cos(x) + 1"
      ]
     },
     "execution_count": 28,
     "metadata": {},
     "output_type": "execute_result"
    }
   ],
   "source": [
    "sym.simplify(sym.cos(x/2)**2/(sym.cos(x)+1))"
   ]
  },
  {
   "cell_type": "code",
   "execution_count": 29,
   "metadata": {},
   "outputs": [
    {
     "data": {
      "text/latex": [
       "$$\\frac{\\cos^{2}{\\left (\\frac{x}{2} \\right )}}{\\cos{\\left (x \\right )} + 1}$$"
      ],
      "text/plain": [
       "    2⎛x⎞  \n",
       " cos ⎜─⎟  \n",
       "     ⎝2⎠  \n",
       "──────────\n",
       "cos(x) + 1"
      ]
     },
     "execution_count": 29,
     "metadata": {},
     "output_type": "execute_result"
    }
   ],
   "source": [
    "sym.trigsimp(sym.cos(x/2)**2/(sym.cos(x)+1))"
   ]
  },
  {
   "cell_type": "code",
   "execution_count": null,
   "metadata": {
    "collapsed": true
   },
   "outputs": [],
   "source": []
  }
 ],
 "metadata": {
  "kernelspec": {
   "display_name": "Python 2",
   "language": "python",
   "name": "python2"
  },
  "language_info": {
   "codemirror_mode": {
    "name": "ipython",
    "version": 2
   },
   "file_extension": ".py",
   "mimetype": "text/x-python",
   "name": "python",
   "nbconvert_exporter": "python",
   "pygments_lexer": "ipython2",
   "version": "2.7.9"
  }
 },
 "nbformat": 4,
 "nbformat_minor": 2
}
