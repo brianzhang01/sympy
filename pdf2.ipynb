{
 "cells": [
  {
   "cell_type": "code",
   "execution_count": 1,
   "metadata": {},
   "outputs": [
    {
     "name": "stdout",
     "output_type": "stream",
     "text": [
      "1.1.1\n"
     ]
    }
   ],
   "source": [
    "import sympy as sym\n",
    "from IPython.display import display\n",
    "print sym.__version__"
   ]
  },
  {
   "cell_type": "code",
   "execution_count": 3,
   "metadata": {
    "collapsed": true
   },
   "outputs": [],
   "source": [
    "sym.init_printing()\n",
    "x, y = sym.symbols('x y', real=True)"
   ]
  },
  {
   "cell_type": "code",
   "execution_count": 4,
   "metadata": {
    "collapsed": true
   },
   "outputs": [],
   "source": [
    "mu1, mu2 = sym.symbols('mu_1 mu_2', real=True)\n",
    "sigma1, sigma2 = sym.symbols('sigma_1 sigma_2', positive=True)"
   ]
  },
  {
   "cell_type": "code",
   "execution_count": 12,
   "metadata": {
    "collapsed": true
   },
   "outputs": [],
   "source": [
    "def make_normal(var, mu, sigma):\n",
    "    return (2*sym.pi*sigma**2) ** sym.Rational(-1, 2) * sym.exp(-(var-mu)**2/(2*sigma**2))\n",
    "\n",
    "def make_normal2(var, sigma):\n",
    "    return (2*sym.pi*sigma**2) ** sym.Rational(-1, 2) * sym.exp(-var**2/(2*sigma**2))"
   ]
  },
  {
   "cell_type": "code",
   "execution_count": 7,
   "metadata": {},
   "outputs": [
    {
     "data": {
      "image/png": "[encoded data removed]",
      "text/latex": [
       "$$\\frac{\\sqrt{2}}{2 \\sqrt{\\pi} \\sigma_{1}} e^{- \\frac{\\left(- \\mu_{1} + x\\right)^{2}}{2 \\sigma_{1}^{2}}}$$"
      ],
      "text/plain": [
       "              2 \n",
       "    -(-μ₁ + x)  \n",
       "    ────────────\n",
       "           2    \n",
       "       2⋅σ₁     \n",
       "√2⋅ℯ            \n",
       "────────────────\n",
       "    2⋅√π⋅σ₁     "
      ]
     },
     "execution_count": 7,
     "metadata": {},
     "output_type": "execute_result"
    }
   ],
   "source": [
    "make_normal(x, mu1, sigma1)"
   ]
  },
  {
   "cell_type": "code",
   "execution_count": 8,
   "metadata": {},
   "outputs": [
    {
     "data": {
      "image/png": "[encoded data removed]",
      "text/latex": [
       "$$\\frac{\\sqrt{2}}{2 \\sqrt{\\pi} \\sigma_{2}} e^{- \\frac{1}{2 \\sigma_{2}^{2}} \\left(- \\mu_{2} - x + y\\right)^{2}}$$"
      ],
      "text/plain": [
       "                  2 \n",
       "    -(-μ₂ - x + y)  \n",
       "    ────────────────\n",
       "             2      \n",
       "         2⋅σ₂       \n",
       "√2⋅ℯ                \n",
       "────────────────────\n",
       "      2⋅√π⋅σ₂       "
      ]
     },
     "execution_count": 8,
     "metadata": {},
     "output_type": "execute_result"
    }
   ],
   "source": [
    "make_normal(y-x, mu2, sigma2)"
   ]
  },
  {
   "cell_type": "code",
   "execution_count": 10,
   "metadata": {},
   "outputs": [
    {
     "data": {
      "image/png": "[encoded data removed]",
      "text/latex": [
       "$$\\frac{\\sqrt{2}}{4 \\sqrt{\\pi} \\sqrt{\\sigma_{1}^{2} + \\sigma_{2}^{2}} \\left(\\mu_{1} + \\mu_{2} - y\\right)} \\left(- \\left(\\operatorname{erf}{\\left (\\frac{\\sqrt{2} \\sigma_{2} \\left(- \\mu_{1} - \\mu_{2} + y\\right)}{2 \\sigma_{1} \\sqrt{\\sigma_{1}^{2} + \\sigma_{2}^{2}}} \\right )} + 1\\right) \\left(- \\mu_{1} - \\mu_{2} + y\\right) e^{\\frac{\\sigma_{2}^{2} \\left(- \\mu_{1} - \\mu_{2} + y\\right)^{2}}{2 \\sigma_{1}^{2} \\left(\\sigma_{1}^{2} + \\sigma_{2}^{2}\\right)}} + \\left(\\operatorname{erf}{\\left (\\frac{\\sqrt{2} \\sigma_{2} \\left(\\mu_{1} + \\mu_{2} - y\\right)}{2 \\sigma_{1} \\sqrt{\\sigma_{1}^{2} + \\sigma_{2}^{2}}} \\right )} + 1\\right) \\left(\\mu_{1} + \\mu_{2} - y\\right) e^{\\frac{\\sigma_{2}^{2} \\left(\\mu_{1} + \\mu_{2} - y\\right)^{2}}{2 \\sigma_{1}^{2} \\left(\\sigma_{1}^{2} + \\sigma_{2}^{2}\\right)}}\\right) e^{\\frac{1}{2 \\sigma_{1}^{2}} \\left(- \\mu_{1}^{2} - 2 \\mu_{1} \\mu_{2} + 2 \\mu_{1} y - \\mu_{2}^{2} + 2 \\mu_{2} y - y^{2}\\right)}$$"
      ],
      "text/plain": [
       "   ⎛                                                    2               2     \n",
       "   ⎜                                                  σ₂ ⋅(-μ₁ - μ₂ + y)      \n",
       "   ⎜                                                  ───────────────────     \n",
       "   ⎜                                                       2 ⎛  2     2⎞      \n",
       "   ⎜  ⎛   ⎛√2⋅σ₂⋅(-μ₁ - μ₂ + y)⎞    ⎞                  2⋅σ₁ ⋅⎝σ₁  + σ₂ ⎠    ⎛ \n",
       "√2⋅⎜- ⎜erf⎜────────────────────⎟ + 1⎟⋅(-μ₁ - μ₂ + y)⋅ℯ                    + ⎜e\n",
       "   ⎜  ⎜   ⎜        ___________ ⎟    ⎟                                       ⎜ \n",
       "   ⎜  ⎜   ⎜       ╱   2     2  ⎟    ⎟                                       ⎜ \n",
       "   ⎝  ⎝   ⎝2⋅σ₁⋅╲╱  σ₁  + σ₂   ⎠    ⎠                                       ⎝ \n",
       "──────────────────────────────────────────────────────────────────────────────\n",
       "                                                                              \n",
       "                                                                              \n",
       "                                                                             4\n",
       "\n",
       "                                              2              2⎞      2        \n",
       "                                            σ₂ ⋅(μ₁ + μ₂ - y) ⎟  - μ₁  - 2⋅μ₁⋅\n",
       "                                            ──────────────────⎟  ─────────────\n",
       "                                                2 ⎛  2     2⎞ ⎟               \n",
       "  ⎛√2⋅σ₂⋅(μ₁ + μ₂ - y)⎞    ⎞                2⋅σ₁ ⋅⎝σ₁  + σ₂ ⎠ ⎟               \n",
       "rf⎜───────────────────⎟ + 1⎟⋅(μ₁ + μ₂ - y)⋅ℯ                  ⎟⋅ℯ             \n",
       "  ⎜        ___________⎟    ⎟                                  ⎟               \n",
       "  ⎜       ╱   2     2 ⎟    ⎟                                  ⎟               \n",
       "  ⎝2⋅σ₁⋅╲╱  σ₁  + σ₂  ⎠    ⎠                                  ⎠               \n",
       "──────────────────────────────────────────────────────────────────────────────\n",
       "       ___________                                                            \n",
       "      ╱   2     2                                                             \n",
       "⋅√π⋅╲╱  σ₁  + σ₂  ⋅(μ₁ + μ₂ - y)                                              \n",
       "\n",
       "                2             2\n",
       "μ₂ + 2⋅μ₁⋅y - μ₂  + 2⋅μ₂⋅y - y \n",
       "───────────────────────────────\n",
       "          2                    \n",
       "      2⋅σ₁                     \n",
       "                               \n",
       "                               \n",
       "                               \n",
       "                               \n",
       "───────────────────────────────\n",
       "                               \n",
       "                               \n",
       "                               "
      ]
     },
     "execution_count": 10,
     "metadata": {},
     "output_type": "execute_result"
    }
   ],
   "source": [
    "sym.simplify(sym.integrate(make_normal(x, mu1, sigma1)*make_normal(y-x, mu2, sigma2), (x, -sym.oo, sym.oo)))"
   ]
  },
  {
   "cell_type": "code",
   "execution_count": 17,
   "metadata": {},
   "outputs": [
    {
     "data": {
      "image/png": "[encoded data removed]",
      "text/latex": [
       "$$\\frac{\\sqrt{2} e^{- \\frac{x^{2}}{2 \\sigma_{1}^{2}}}}{2 \\sqrt{\\pi} \\sigma_{1}}$$"
      ],
      "text/plain": [
       "       2 \n",
       "     -x  \n",
       "    ─────\n",
       "        2\n",
       "    2⋅σ₁ \n",
       "√2⋅ℯ     \n",
       "─────────\n",
       " 2⋅√π⋅σ₁ "
      ]
     },
     "execution_count": 17,
     "metadata": {},
     "output_type": "execute_result"
    }
   ],
   "source": [
    "make_normal(x, 0, sigma1)"
   ]
  },
  {
   "cell_type": "code",
   "execution_count": 19,
   "metadata": {},
   "outputs": [
    {
     "data": {
      "image/png": "[encoded data removed]",
      "text/latex": [
       "$$\\frac{\\sqrt{2}}{2 \\sqrt{\\pi} \\sigma_{2}} e^{- \\frac{\\left(- x + y\\right)^{2}}{2 \\sigma_{2}^{2}}}$$"
      ],
      "text/plain": [
       "             2 \n",
       "    -(-x + y)  \n",
       "    ───────────\n",
       "           2   \n",
       "       2⋅σ₂    \n",
       "√2⋅ℯ           \n",
       "───────────────\n",
       "    2⋅√π⋅σ₂    "
      ]
     },
     "execution_count": 19,
     "metadata": {},
     "output_type": "execute_result"
    }
   ],
   "source": [
    "make_normal(y-x, 0, sigma2)"
   ]
  },
  {
   "cell_type": "code",
   "execution_count": 18,
   "metadata": {},
   "outputs": [
    {
     "data": {
      "image/png": "[encoded data removed]",
      "text/latex": [
       "$$\\frac{\\sqrt{2} e^{- \\frac{y^{2}}{2 \\sigma_{1}^{2} + 2 \\sigma_{2}^{2}}}}{2 \\sqrt{\\pi} \\sqrt{\\sigma_{1}^{2} + \\sigma_{2}^{2}}}$$"
      ],
      "text/plain": [
       "            2      \n",
       "          -y       \n",
       "     ───────────── \n",
       "         2       2 \n",
       "     2⋅σ₁  + 2⋅σ₂  \n",
       " √2⋅ℯ              \n",
       "───────────────────\n",
       "        ___________\n",
       "       ╱   2     2 \n",
       "2⋅√π⋅╲╱  σ₁  + σ₂  "
      ]
     },
     "execution_count": 18,
     "metadata": {},
     "output_type": "execute_result"
    }
   ],
   "source": [
    "sym.simplify(sym.integrate(make_normal(x, 0, sigma1)*make_normal(y-x, 0, sigma2), (x, -sym.oo, sym.oo)))"
   ]
  },
  {
   "cell_type": "code",
   "execution_count": 11,
   "metadata": {
    "collapsed": true
   },
   "outputs": [],
   "source": [
    "b1, b2 = sym.symbols('b_1 b_2', positive=True)"
   ]
  },
  {
   "cell_type": "code",
   "execution_count": 20,
   "metadata": {
    "collapsed": true
   },
   "outputs": [],
   "source": [
    "def make_cauchy(var, mu, b):\n",
    "    return b / ((var-mu)**2 + b**2) / sym.pi"
   ]
  },
  {
   "cell_type": "code",
   "execution_count": 21,
   "metadata": {},
   "outputs": [
    {
     "data": {
      "image/png": "[encoded data removed]",
      "text/latex": [
       "$$\\frac{b_{1}}{\\pi \\left(b_{1}^{2} + x^{2}\\right)}$$"
      ],
      "text/plain": [
       "     b₁     \n",
       "────────────\n",
       "  ⎛  2    2⎞\n",
       "π⋅⎝b₁  + x ⎠"
      ]
     },
     "execution_count": 21,
     "metadata": {},
     "output_type": "execute_result"
    }
   ],
   "source": [
    "make_cauchy(x, 0, b1)"
   ]
  },
  {
   "cell_type": "code",
   "execution_count": 22,
   "metadata": {},
   "outputs": [
    {
     "data": {
      "image/png": "[encoded data removed]",
      "text/latex": [
       "$$\\frac{b_{2}}{\\pi \\left(b_{2}^{2} + x^{2}\\right)}$$"
      ],
      "text/plain": [
       "     b₂     \n",
       "────────────\n",
       "  ⎛  2    2⎞\n",
       "π⋅⎝b₂  + x ⎠"
      ]
     },
     "execution_count": 22,
     "metadata": {},
     "output_type": "execute_result"
    }
   ],
   "source": [
    "make_cauchy(x, 0, b2)"
   ]
  },
  {
   "cell_type": "code",
   "execution_count": 23,
   "metadata": {},
   "outputs": [
    {
     "data": {
      "image/png": "[encoded data removed]",
      "text/latex": [
       "$$\\frac{\\sqrt{2} b_{1} e^{- \\frac{y^{2}}{2 b_{2}^{2}}}}{2 \\pi^{\\frac{3}{2}} b_{2}} \\int_{-\\infty}^{\\infty} \\frac{e^{\\frac{x}{b_{2}^{2}} \\left(- \\frac{x}{2} + y\\right)}}{b_{1}^{2} + x^{2}}\\, dx$$"
      ],
      "text/plain": [
       "             ∞                 \n",
       "             ⌠                 \n",
       "             ⎮     ⎛  x    ⎞   \n",
       "             ⎮   x⋅⎜- ─ + y⎟   \n",
       "          2  ⎮     ⎝  2    ⎠   \n",
       "        -y   ⎮   ───────────   \n",
       "       ───── ⎮         2       \n",
       "           2 ⎮       b₂        \n",
       "       2⋅b₂  ⎮  ℯ              \n",
       "√2⋅b₁⋅ℯ     ⋅⎮  ──────────── dx\n",
       "             ⎮      2    2     \n",
       "             ⎮    b₁  + x      \n",
       "             ⌡                 \n",
       "             -∞                \n",
       "───────────────────────────────\n",
       "              3/2              \n",
       "           2⋅π   ⋅b₂           "
      ]
     },
     "execution_count": 23,
     "metadata": {},
     "output_type": "execute_result"
    }
   ],
   "source": [
    "sym.simplify(sym.integrate(make_cauchy(x, 0, b1)*make_normal(y-x, 0, b2), (x, -sym.oo, sym.oo)))"
   ]
  },
  {
   "cell_type": "markdown",
   "metadata": {},
   "source": [
    "Took a long time! Wait on it."
   ]
  },
  {
   "cell_type": "code",
   "execution_count": null,
   "metadata": {
    "collapsed": true
   },
   "outputs": [],
   "source": []
  }
 ],
 "metadata": {
  "kernelspec": {
   "display_name": "Python 2",
   "language": "python",
   "name": "python2"
  },
  "language_info": {
   "codemirror_mode": {
    "name": "ipython",
    "version": 2
   },
   "file_extension": ".py",
   "mimetype": "text/x-python",
   "name": "python",
   "nbconvert_exporter": "python",
   "pygments_lexer": "ipython2",
   "version": "2.7.9"
  }
 },
 "nbformat": 4,
 "nbformat_minor": 2
}
